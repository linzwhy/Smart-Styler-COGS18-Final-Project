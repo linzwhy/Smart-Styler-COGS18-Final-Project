{
 "cells": [
  {
   "cell_type": "markdown",
   "metadata": {},
   "source": [
    "# Project Description"
   ]
  },
  {
   "cell_type": "markdown",
   "metadata": {},
   "source": [
    "The Smart Styler is a simple interactive quiz that creates an outfit for the user based on their choices. At the end of the quiz it displays an image of the outfit(s).\n",
    "\n",
    "The first few questions gets your name, gender and color preferences. Gender and color categorize the specific outfit you get. The next three questions determine which specific style you get. If it doesn't come up with a single style after three questions, an fool-proof tie-breaker question is diplayed. \n",
    "\n",
    "The code looks for common answers and then turns the input into the correct file name for what image to open. There are 18 possible outcomes."
   ]
  },
  {
   "cell_type": "markdown",
   "metadata": {},
   "source": [
    "## Project Code\n",
    "\n",
    "If it makes sense for your project, you can have code and outputs here in the notebook as well."
   ]
  },
  {
   "cell_type": "code",
   "execution_count": 1,
   "metadata": {
    "scrolled": true
   },
   "outputs": [
    {
     "name": "stdout",
     "output_type": "stream",
     "text": [
      "\u001b[1m============================= test session starts ==============================\u001b[0m\n",
      "platform darwin -- Python 3.9.7, pytest-6.2.4, py-1.10.0, pluggy-0.13.1\n",
      "rootdir: /Users/linzy/Downloads/FinalProject_COGS18_WI22\n",
      "plugins: anyio-2.2.0\n",
      "collected 3 items                                                              \u001b[0m\n",
      "\n",
      "test_functions.py \u001b[32m.\u001b[0m\u001b[32m.\u001b[0m\u001b[32m.\u001b[0m\u001b[32m                                                    [100%]\u001b[0m\n",
      "\n",
      "\u001b[32m============================== \u001b[32m\u001b[1m3 passed\u001b[0m\u001b[32m in 0.04s\u001b[0m\u001b[32m ===============================\u001b[0m\n",
      "************* Module functions\n",
      "functions.py:238:8: E1111: Assigning result of a function call, where the function has no return (assignment-from-no-return)\n",
      "\n",
      "-----------------------------------\n",
      "Your code has been rated at 9.32/10\n",
      "\n",
      "\u001b[0m"
     ]
    }
   ],
   "source": [
    "import functions\n",
    "\n",
    "!pytest\n",
    "!pylint functions.py"
   ]
  },
  {
   "cell_type": "code",
   "execution_count": 2,
   "metadata": {},
   "outputs": [
    {
     "name": "stdout",
     "output_type": "stream",
     "text": [
      "----------------------------------------------------------\n",
      "Hello! Welcome to the Smart Styler.\n",
      "I will choose an outfit for you based on your personality!\n",
      "Ready? Press enter to get started. \n",
      "----------------------------------------------------------linzy\n",
      "--> First off, what is your name? linzy\n",
      "Nice to meet you, Linzy.\n",
      "\n",
      "(For all questions, please type the corresponding letter in lowercase to choose an answer.)\n",
      "\n",
      "--> What gender matches your style preference the most?\n",
      "f - feminine\n",
      "m - masculine\n",
      "f\n",
      "--> What color palette are you drawn to the most?\n",
      "a - Cool colors: blues, greens, purples\n",
      "b - Warm colors: reds, oranges, yellows\n",
      "c - Neutral colors: black, white, browns\n",
      "c\n",
      "--> Choose the list of words that best describe you.\n",
      "a - calm, homebody, laid back\n",
      "b - hard worker, motivated, classy\n",
      "c - upbeat, creative, free-spirit\n",
      "a\n",
      "--> Pick your perfect night out.\n",
      "a - Night out? More like night in... binging my favorite show.\n",
      "b - Fancy dinner, pampering myself, and a book/podcast before bed.\n",
      "c - Watching a band perform live (probably one you've never heard of).\n",
      "c\n",
      "--> Choose your ideal job.\n",
      "a - Working from home (while keeping an eye on my kids/pets)\n",
      "b - CEO/founder of a corporation\n",
      "c - Director of an art museum\n",
      "b\n",
      "--> What brings you the most joy?\n",
      "a - Spending time with friends and family.\n",
      "b - Checking things off my to-do list, feeling accomplished for the day.\n",
      "c - Creating/viewing art and/or music.\n",
      "c\n",
      "\n",
      "\n",
      "Okay, Linzy! I think I got everything I need, give me a moment. :)\n",
      "Compiling answers . . .\n",
      "Generating outfit . . .\n",
      "Having a snack . . .\n",
      "Success!\n",
      "\n",
      "--> Would you like to take the quiz again?\n",
      "y for yes, n for no n\n",
      "Thanks for playing!\n"
     ]
    }
   ],
   "source": [
    "from functions import smart_styler\n",
    "\n",
    "smart_styler()"
   ]
  },
  {
   "cell_type": "markdown",
   "metadata": {},
   "source": [
    "#### Extra Credit (*optional*)\n",
    "\n",
    "Experience:\n",
    "I have no prior experience in Python, however I took an intro to C++ course in community college about a year ago. From that class I remembered some basics like what object-oriented programming is, how to use variables and conditionals, etc.\n",
    "\n",
    "\n",
    "- I knew I wanted my project to be interactive and involve visual output. We hadn't learned how to deal with actual images as output in class, so I read and learned how to use the method Image from PIL to do just that. \n",
    "- However, I was having a very hard time figuring out how to get the images to show when they were in a separate folder. It took me awhile, but I finally came across the getcwd() method from the os module (after trying like 4 other methods from different modules that I couldn't get to work for me). I used that to get the user's current working directory as a str, then passed it into the Image method to show the image.\n",
    "- I also wanted to know how to create a delay between print() statements, to make it look like the program was \"loading\". There are probably other ways to do this but I learned how to use the sleep method from the time module."
   ]
  }
 ],
 "metadata": {
  "kernelspec": {
   "display_name": "Python 3 (ipykernel)",
   "language": "python",
   "name": "python3"
  },
  "language_info": {
   "codemirror_mode": {
    "name": "ipython",
    "version": 3
   },
   "file_extension": ".py",
   "mimetype": "text/x-python",
   "name": "python",
   "nbconvert_exporter": "python",
   "pygments_lexer": "ipython3",
   "version": "3.9.7"
  }
 },
 "nbformat": 4,
 "nbformat_minor": 2
}
